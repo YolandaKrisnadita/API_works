{
 "cells": [
  {
   "cell_type": "code",
   "execution_count": 1,
   "metadata": {},
   "outputs": [],
   "source": [
    "import requests\n",
    "from pprint import pprint"
   ]
  },
  {
   "cell_type": "code",
   "execution_count": 2,
   "metadata": {},
   "outputs": [
    {
     "name": "stdout",
     "output_type": "stream",
     "text": [
      "{'menu': {'1': 'See shopping cart (/cart)',\n",
      "          '2': 'Add item (/add) - You may need request',\n",
      "          '3': 'Edit shopping cart (/edit/id)',\n",
      "          '4': 'Delete item from shopping cart (/del/id)'},\n",
      " 'message': 'Welcome to Toko H8 Shopping Cart! There are some features that '\n",
      "            'you can explore'}\n"
     ]
    }
   ],
   "source": [
    "#root\n",
    "url ='http://127.0.0.1:8000/'\n",
    "response=requests.get(url)\n",
    "pprint(response.json())"
   ]
  },
  {
   "cell_type": "code",
   "execution_count": 4,
   "metadata": {},
   "outputs": [
    {
     "name": "stdout",
     "output_type": "stream",
     "text": [
      "{'columns': ['prod_name', 'price', 'num_items'],\n",
      " 'items': {},\n",
      " 'name': 'shopping cart'}\n"
     ]
    }
   ],
   "source": [
    "#akses cart\n",
    "url ='http://127.0.0.1:8000/cart'\n",
    "response=requests.get(url)\n",
    "pprint(response.json())"
   ]
  },
  {
   "cell_type": "code",
   "execution_count": 5,
   "metadata": {},
   "outputs": [
    {
     "name": "stdout",
     "output_type": "stream",
     "text": [
      "'Item successfully added into your cart with ID 1'\n"
     ]
    }
   ],
   "source": [
    "#cara untuk add item\n",
    "url ='http://127.0.0.1:8000/add'\n",
    "response=requests.post(url,json={\n",
    "                                    \"prod_name\": \"Ice cream\",\n",
    "                                    \"price\": 4000,\n",
    "                                    \"num_items\": 5\n",
    "})\n",
    "pprint(response.json())"
   ]
  },
  {
   "cell_type": "code",
   "execution_count": null,
   "metadata": {},
   "outputs": [],
   "source": [
    "#cara untuk edit item\n",
    "url ='http://127.0.0.1:8000/edit/1'\n",
    "response=requests.put(url,json={\n",
    "                                    \"prod_name\": \"Ice cream\",\n",
    "                                    \"price\": 4000,\n",
    "                                    \"num_items\": 5\n",
    "})\n",
    "pprint(response.json())\n",
    "pprint(response.status_code)"
   ]
  },
  {
   "cell_type": "code",
   "execution_count": 6,
   "metadata": {},
   "outputs": [
    {
     "name": "stdout",
     "output_type": "stream",
     "text": [
      "{'message': 'Item with ID 1 has been deleted successfully.'}\n",
      "200\n"
     ]
    }
   ],
   "source": [
    "#cara untuk delete item\n",
    "url ='http://127.0.0.1:8000/del/1'\n",
    "response=requests.delete(url)\n",
    "pprint(response.json())\n",
    "pprint(response.status_code)"
   ]
  }
 ],
 "metadata": {
  "kernelspec": {
   "display_name": "Hacktiv8",
   "language": "python",
   "name": "python3"
  },
  "language_info": {
   "codemirror_mode": {
    "name": "ipython",
    "version": 3
   },
   "file_extension": ".py",
   "mimetype": "text/x-python",
   "name": "python",
   "nbconvert_exporter": "python",
   "pygments_lexer": "ipython3",
   "version": "3.11.5"
  }
 },
 "nbformat": 4,
 "nbformat_minor": 2
}
